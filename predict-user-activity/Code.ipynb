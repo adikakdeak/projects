{
 "cells": [
  {
   "cell_type": "markdown",
   "metadata": {},
   "source": [
    "# Task 1: Retrieving and Preparing the Data"
   ]
  },
  {
   "cell_type": "markdown",
   "metadata": {},
   "source": [
    "## Import and data check"
   ]
  },
  {
   "cell_type": "code",
   "execution_count": 1,
   "metadata": {},
   "outputs": [],
   "source": [
    "#ignore warning messages\n",
    "import warnings\n",
    "warnings.filterwarnings(\"ignore\")\n",
    "\n",
    "#import numpy and pandas packages\n",
    "import numpy as np\n",
    "import pandas as pd\n",
    "\n",
    "user_count = np.arange(1,16)\n",
    "df_user_dat = pd.DataFrame()\n",
    "\n",
    "for user in user_count:\n",
    "    \n",
    "    #create the source filename and userlabel\n",
    "    file_name = str(user) + '.csv'\n",
    "    user_label = 'user_' + str(user)\n",
    "    \n",
    "    #import data\n",
    "    temp_df = pd.read_csv(file_name, names = ['ID', 'X', 'Y', 'Z', 'Activity'])\n",
    "    \n",
    "    #exclude ID column\n",
    "    temp_df = temp_df.iloc[:,1:]\n",
    "    \n",
    "    #add new column which represents the user\n",
    "    temp_df = temp_df.assign(User = user_label)\n",
    "    \n",
    "    #concat the records\n",
    "    df_user_dat = pd.concat([df_user_dat, temp_df]) "
   ]
  },
  {
   "cell_type": "code",
   "execution_count": 2,
   "metadata": {
    "scrolled": false
   },
   "outputs": [
    {
     "data": {
      "text/plain": [
       "(1926896, 5)"
      ]
     },
     "execution_count": 2,
     "metadata": {},
     "output_type": "execute_result"
    }
   ],
   "source": [
    "#check dimensions\n",
    "df_user_dat.shape"
   ]
  },
  {
   "cell_type": "code",
   "execution_count": 3,
   "metadata": {},
   "outputs": [
    {
     "data": {
      "text/html": [
       "<div>\n",
       "<style scoped>\n",
       "    .dataframe tbody tr th:only-of-type {\n",
       "        vertical-align: middle;\n",
       "    }\n",
       "\n",
       "    .dataframe tbody tr th {\n",
       "        vertical-align: top;\n",
       "    }\n",
       "\n",
       "    .dataframe thead th {\n",
       "        text-align: right;\n",
       "    }\n",
       "</style>\n",
       "<table border=\"1\" class=\"dataframe\">\n",
       "  <thead>\n",
       "    <tr style=\"text-align: right;\">\n",
       "      <th></th>\n",
       "      <th>X</th>\n",
       "      <th>Y</th>\n",
       "      <th>Z</th>\n",
       "      <th>Activity</th>\n",
       "      <th>User</th>\n",
       "    </tr>\n",
       "  </thead>\n",
       "  <tbody>\n",
       "    <tr>\n",
       "      <th>0</th>\n",
       "      <td>1502</td>\n",
       "      <td>2215</td>\n",
       "      <td>2153</td>\n",
       "      <td>1</td>\n",
       "      <td>user_1</td>\n",
       "    </tr>\n",
       "    <tr>\n",
       "      <th>1</th>\n",
       "      <td>1667</td>\n",
       "      <td>2072</td>\n",
       "      <td>2047</td>\n",
       "      <td>1</td>\n",
       "      <td>user_1</td>\n",
       "    </tr>\n",
       "    <tr>\n",
       "      <th>2</th>\n",
       "      <td>1611</td>\n",
       "      <td>1957</td>\n",
       "      <td>1906</td>\n",
       "      <td>1</td>\n",
       "      <td>user_1</td>\n",
       "    </tr>\n",
       "    <tr>\n",
       "      <th>3</th>\n",
       "      <td>1601</td>\n",
       "      <td>1939</td>\n",
       "      <td>1831</td>\n",
       "      <td>1</td>\n",
       "      <td>user_1</td>\n",
       "    </tr>\n",
       "    <tr>\n",
       "      <th>4</th>\n",
       "      <td>1643</td>\n",
       "      <td>1965</td>\n",
       "      <td>1879</td>\n",
       "      <td>1</td>\n",
       "      <td>user_1</td>\n",
       "    </tr>\n",
       "  </tbody>\n",
       "</table>\n",
       "</div>"
      ],
      "text/plain": [
       "      X     Y     Z  Activity    User\n",
       "0  1502  2215  2153         1  user_1\n",
       "1  1667  2072  2047         1  user_1\n",
       "2  1611  1957  1906         1  user_1\n",
       "3  1601  1939  1831         1  user_1\n",
       "4  1643  1965  1879         1  user_1"
      ]
     },
     "execution_count": 3,
     "metadata": {},
     "output_type": "execute_result"
    }
   ],
   "source": [
    "#display first 5 rows\n",
    "df_user_dat.head()"
   ]
  },
  {
   "cell_type": "code",
   "execution_count": 4,
   "metadata": {},
   "outputs": [
    {
     "data": {
      "text/plain": [
       "X            int64\n",
       "Y            int64\n",
       "Z            int64\n",
       "Activity     int64\n",
       "User        object\n",
       "dtype: object"
      ]
     },
     "execution_count": 4,
     "metadata": {},
     "output_type": "execute_result"
    }
   ],
   "source": [
    "#check data types\n",
    "df_user_dat.dtypes"
   ]
  },
  {
   "cell_type": "markdown",
   "metadata": {},
   "source": [
    "## Feature Check"
   ]
  },
  {
   "cell_type": "code",
   "execution_count": 5,
   "metadata": {},
   "outputs": [
    {
     "data": {
      "text/plain": [
       "X           0\n",
       "Y           0\n",
       "Z           0\n",
       "Activity    0\n",
       "User        0\n",
       "dtype: int64"
      ]
     },
     "execution_count": 5,
     "metadata": {},
     "output_type": "execute_result"
    }
   ],
   "source": [
    "#check for null values\n",
    "df_user_dat.isna().sum()"
   ]
  },
  {
   "cell_type": "code",
   "execution_count": 6,
   "metadata": {},
   "outputs": [
    {
     "data": {
      "text/html": [
       "<div>\n",
       "<style scoped>\n",
       "    .dataframe tbody tr th:only-of-type {\n",
       "        vertical-align: middle;\n",
       "    }\n",
       "\n",
       "    .dataframe tbody tr th {\n",
       "        vertical-align: top;\n",
       "    }\n",
       "\n",
       "    .dataframe thead th {\n",
       "        text-align: right;\n",
       "    }\n",
       "</style>\n",
       "<table border=\"1\" class=\"dataframe\">\n",
       "  <thead>\n",
       "    <tr style=\"text-align: right;\">\n",
       "      <th></th>\n",
       "      <th>X</th>\n",
       "      <th>Y</th>\n",
       "      <th>Z</th>\n",
       "    </tr>\n",
       "  </thead>\n",
       "  <tbody>\n",
       "    <tr>\n",
       "      <th>count</th>\n",
       "      <td>1926896.00</td>\n",
       "      <td>1926896.00</td>\n",
       "      <td>1926896.00</td>\n",
       "    </tr>\n",
       "    <tr>\n",
       "      <th>mean</th>\n",
       "      <td>1987.65</td>\n",
       "      <td>2382.52</td>\n",
       "      <td>1970.60</td>\n",
       "    </tr>\n",
       "    <tr>\n",
       "      <th>std</th>\n",
       "      <td>111.36</td>\n",
       "      <td>100.32</td>\n",
       "      <td>94.46</td>\n",
       "    </tr>\n",
       "    <tr>\n",
       "      <th>min</th>\n",
       "      <td>282.00</td>\n",
       "      <td>2.00</td>\n",
       "      <td>1.00</td>\n",
       "    </tr>\n",
       "    <tr>\n",
       "      <th>25%</th>\n",
       "      <td>1904.00</td>\n",
       "      <td>2337.00</td>\n",
       "      <td>1918.00</td>\n",
       "    </tr>\n",
       "    <tr>\n",
       "      <th>50%</th>\n",
       "      <td>1992.00</td>\n",
       "      <td>2367.00</td>\n",
       "      <td>1988.00</td>\n",
       "    </tr>\n",
       "    <tr>\n",
       "      <th>75%</th>\n",
       "      <td>2076.00</td>\n",
       "      <td>2413.00</td>\n",
       "      <td>2032.00</td>\n",
       "    </tr>\n",
       "    <tr>\n",
       "      <th>max</th>\n",
       "      <td>3828.00</td>\n",
       "      <td>4095.00</td>\n",
       "      <td>4095.00</td>\n",
       "    </tr>\n",
       "  </tbody>\n",
       "</table>\n",
       "</div>"
      ],
      "text/plain": [
       "                X           Y           Z\n",
       "count  1926896.00  1926896.00  1926896.00\n",
       "mean      1987.65     2382.52     1970.60\n",
       "std        111.36      100.32       94.46\n",
       "min        282.00        2.00        1.00\n",
       "25%       1904.00     2337.00     1918.00\n",
       "50%       1992.00     2367.00     1988.00\n",
       "75%       2076.00     2413.00     2032.00\n",
       "max       3828.00     4095.00     4095.00"
      ]
     },
     "execution_count": 6,
     "metadata": {},
     "output_type": "execute_result"
    }
   ],
   "source": [
    "#check summary statistics for numeric features\n",
    "df_user_dat[['X','Y','Z']].describe().round(2)"
   ]
  },
  {
   "cell_type": "code",
   "execution_count": 7,
   "metadata": {
    "scrolled": true
   },
   "outputs": [
    {
     "name": "stdout",
     "output_type": "stream",
     "text": [
      "Unique values for feature Activity :\n",
      "[1 2 3 4 5 6 7 0] \n",
      "\n",
      "Unique values for feature User :\n",
      "['user_1' 'user_2' 'user_3' 'user_4' 'user_5' 'user_6' 'user_7' 'user_8'\n",
      " 'user_9' 'user_10' 'user_11' 'user_12' 'user_13' 'user_14' 'user_15'] \n",
      "\n"
     ]
    }
   ],
   "source": [
    "#display unique values for categorical features\n",
    "for col in ['Activity', 'User']:\n",
    "    print('Unique values for feature', col, ':')\n",
    "    print(df_user_dat[col].unique(), '\\n')"
   ]
  },
  {
   "cell_type": "code",
   "execution_count": 8,
   "metadata": {},
   "outputs": [
    {
     "data": {
      "text/plain": [
       "3719"
      ]
     },
     "execution_count": 8,
     "metadata": {},
     "output_type": "execute_result"
    }
   ],
   "source": [
    "#check count of instances where Activity = 0\n",
    "df_user_dat[df_user_dat['Activity'] == 0].shape[0]"
   ]
  },
  {
   "cell_type": "code",
   "execution_count": 9,
   "metadata": {},
   "outputs": [],
   "source": [
    "#drop instances where Activity = 0\n",
    "df_user_dat = df_user_dat[df_user_dat['Activity'] != 0]"
   ]
  },
  {
   "cell_type": "code",
   "execution_count": 10,
   "metadata": {},
   "outputs": [
    {
     "data": {
      "text/plain": [
       "array([1, 2, 3, 4, 5, 6, 7], dtype=int64)"
      ]
     },
     "execution_count": 10,
     "metadata": {},
     "output_type": "execute_result"
    }
   ],
   "source": [
    "#verify if the instances with Activity = 0 have been dropped\n",
    "df_user_dat['Activity'].unique()"
   ]
  },
  {
   "cell_type": "markdown",
   "metadata": {},
   "source": [
    "## Extract Sample"
   ]
  },
  {
   "cell_type": "code",
   "execution_count": 11,
   "metadata": {},
   "outputs": [],
   "source": [
    "#extract sample of 100,000 instances\n",
    "df_user_sample = df_user_dat.sample(n = 100000, random_state = 111)"
   ]
  },
  {
   "cell_type": "code",
   "execution_count": 12,
   "metadata": {},
   "outputs": [
    {
     "data": {
      "text/plain": [
       "(100000, 5)"
      ]
     },
     "execution_count": 12,
     "metadata": {},
     "output_type": "execute_result"
    }
   ],
   "source": [
    "#check dimesnions of sample\n",
    "df_user_sample.shape"
   ]
  },
  {
   "cell_type": "markdown",
   "metadata": {},
   "source": [
    "## Perform Encoding"
   ]
  },
  {
   "cell_type": "code",
   "execution_count": 13,
   "metadata": {},
   "outputs": [],
   "source": [
    "#perform one-hot encoding\n",
    "df_user_sample = pd.get_dummies(df_user_sample)"
   ]
  },
  {
   "cell_type": "code",
   "execution_count": 14,
   "metadata": {},
   "outputs": [
    {
     "data": {
      "text/plain": [
       "Index(['X', 'Y', 'Z', 'Activity', 'User_user_1', 'User_user_10',\n",
       "       'User_user_11', 'User_user_12', 'User_user_13', 'User_user_14',\n",
       "       'User_user_15', 'User_user_2', 'User_user_3', 'User_user_4',\n",
       "       'User_user_5', 'User_user_6', 'User_user_7', 'User_user_8',\n",
       "       'User_user_9'],\n",
       "      dtype='object')"
      ]
     },
     "execution_count": 14,
     "metadata": {},
     "output_type": "execute_result"
    }
   ],
   "source": [
    "#list the columns after performing one-hot encoding\n",
    "df_user_sample.columns"
   ]
  },
  {
   "cell_type": "code",
   "execution_count": 15,
   "metadata": {},
   "outputs": [
    {
     "data": {
      "text/plain": [
       "(100000, 19)"
      ]
     },
     "execution_count": 15,
     "metadata": {},
     "output_type": "execute_result"
    }
   ],
   "source": [
    "#check dimensions after performing one-hot encoding\n",
    "df_user_sample.shape"
   ]
  },
  {
   "cell_type": "code",
   "execution_count": 16,
   "metadata": {},
   "outputs": [
    {
     "data": {
      "text/html": [
       "<div>\n",
       "<style scoped>\n",
       "    .dataframe tbody tr th:only-of-type {\n",
       "        vertical-align: middle;\n",
       "    }\n",
       "\n",
       "    .dataframe tbody tr th {\n",
       "        vertical-align: top;\n",
       "    }\n",
       "\n",
       "    .dataframe thead th {\n",
       "        text-align: right;\n",
       "    }\n",
       "</style>\n",
       "<table border=\"1\" class=\"dataframe\">\n",
       "  <thead>\n",
       "    <tr style=\"text-align: right;\">\n",
       "      <th></th>\n",
       "      <th>X</th>\n",
       "      <th>Y</th>\n",
       "      <th>Z</th>\n",
       "      <th>Activity</th>\n",
       "      <th>User_user_1</th>\n",
       "      <th>User_user_10</th>\n",
       "      <th>User_user_11</th>\n",
       "      <th>User_user_12</th>\n",
       "      <th>User_user_13</th>\n",
       "      <th>User_user_14</th>\n",
       "      <th>User_user_15</th>\n",
       "      <th>User_user_2</th>\n",
       "      <th>User_user_3</th>\n",
       "      <th>User_user_4</th>\n",
       "      <th>User_user_5</th>\n",
       "      <th>User_user_6</th>\n",
       "      <th>User_user_7</th>\n",
       "      <th>User_user_8</th>\n",
       "      <th>User_user_9</th>\n",
       "    </tr>\n",
       "  </thead>\n",
       "  <tbody>\n",
       "    <tr>\n",
       "      <th>11316</th>\n",
       "      <td>1964</td>\n",
       "      <td>2338</td>\n",
       "      <td>1847</td>\n",
       "      <td>1</td>\n",
       "      <td>0</td>\n",
       "      <td>0</td>\n",
       "      <td>0</td>\n",
       "      <td>0</td>\n",
       "      <td>0</td>\n",
       "      <td>0</td>\n",
       "      <td>0</td>\n",
       "      <td>1</td>\n",
       "      <td>0</td>\n",
       "      <td>0</td>\n",
       "      <td>0</td>\n",
       "      <td>0</td>\n",
       "      <td>0</td>\n",
       "      <td>0</td>\n",
       "      <td>0</td>\n",
       "    </tr>\n",
       "    <tr>\n",
       "      <th>105045</th>\n",
       "      <td>2023</td>\n",
       "      <td>2409</td>\n",
       "      <td>1921</td>\n",
       "      <td>7</td>\n",
       "      <td>0</td>\n",
       "      <td>0</td>\n",
       "      <td>0</td>\n",
       "      <td>0</td>\n",
       "      <td>0</td>\n",
       "      <td>0</td>\n",
       "      <td>0</td>\n",
       "      <td>0</td>\n",
       "      <td>0</td>\n",
       "      <td>0</td>\n",
       "      <td>0</td>\n",
       "      <td>0</td>\n",
       "      <td>1</td>\n",
       "      <td>0</td>\n",
       "      <td>0</td>\n",
       "    </tr>\n",
       "    <tr>\n",
       "      <th>162332</th>\n",
       "      <td>2081</td>\n",
       "      <td>2394</td>\n",
       "      <td>1953</td>\n",
       "      <td>7</td>\n",
       "      <td>0</td>\n",
       "      <td>0</td>\n",
       "      <td>0</td>\n",
       "      <td>0</td>\n",
       "      <td>0</td>\n",
       "      <td>0</td>\n",
       "      <td>0</td>\n",
       "      <td>0</td>\n",
       "      <td>0</td>\n",
       "      <td>0</td>\n",
       "      <td>0</td>\n",
       "      <td>0</td>\n",
       "      <td>1</td>\n",
       "      <td>0</td>\n",
       "      <td>0</td>\n",
       "    </tr>\n",
       "    <tr>\n",
       "      <th>89357</th>\n",
       "      <td>1867</td>\n",
       "      <td>2383</td>\n",
       "      <td>1996</td>\n",
       "      <td>7</td>\n",
       "      <td>1</td>\n",
       "      <td>0</td>\n",
       "      <td>0</td>\n",
       "      <td>0</td>\n",
       "      <td>0</td>\n",
       "      <td>0</td>\n",
       "      <td>0</td>\n",
       "      <td>0</td>\n",
       "      <td>0</td>\n",
       "      <td>0</td>\n",
       "      <td>0</td>\n",
       "      <td>0</td>\n",
       "      <td>0</td>\n",
       "      <td>0</td>\n",
       "      <td>0</td>\n",
       "    </tr>\n",
       "    <tr>\n",
       "      <th>101138</th>\n",
       "      <td>1888</td>\n",
       "      <td>2382</td>\n",
       "      <td>1988</td>\n",
       "      <td>7</td>\n",
       "      <td>1</td>\n",
       "      <td>0</td>\n",
       "      <td>0</td>\n",
       "      <td>0</td>\n",
       "      <td>0</td>\n",
       "      <td>0</td>\n",
       "      <td>0</td>\n",
       "      <td>0</td>\n",
       "      <td>0</td>\n",
       "      <td>0</td>\n",
       "      <td>0</td>\n",
       "      <td>0</td>\n",
       "      <td>0</td>\n",
       "      <td>0</td>\n",
       "      <td>0</td>\n",
       "    </tr>\n",
       "  </tbody>\n",
       "</table>\n",
       "</div>"
      ],
      "text/plain": [
       "           X     Y     Z  Activity  User_user_1  User_user_10  User_user_11  \\\n",
       "11316   1964  2338  1847         1            0             0             0   \n",
       "105045  2023  2409  1921         7            0             0             0   \n",
       "162332  2081  2394  1953         7            0             0             0   \n",
       "89357   1867  2383  1996         7            1             0             0   \n",
       "101138  1888  2382  1988         7            1             0             0   \n",
       "\n",
       "        User_user_12  User_user_13  User_user_14  User_user_15  User_user_2  \\\n",
       "11316              0             0             0             0            1   \n",
       "105045             0             0             0             0            0   \n",
       "162332             0             0             0             0            0   \n",
       "89357              0             0             0             0            0   \n",
       "101138             0             0             0             0            0   \n",
       "\n",
       "        User_user_3  User_user_4  User_user_5  User_user_6  User_user_7  \\\n",
       "11316             0            0            0            0            0   \n",
       "105045            0            0            0            0            1   \n",
       "162332            0            0            0            0            1   \n",
       "89357             0            0            0            0            0   \n",
       "101138            0            0            0            0            0   \n",
       "\n",
       "        User_user_8  User_user_9  \n",
       "11316             0            0  \n",
       "105045            0            0  \n",
       "162332            0            0  \n",
       "89357             0            0  \n",
       "101138            0            0  "
      ]
     },
     "execution_count": 16,
     "metadata": {},
     "output_type": "execute_result"
    }
   ],
   "source": [
    "#display first 5 rows after performing one-hot encoding\n",
    "df_user_sample.head()"
   ]
  },
  {
   "cell_type": "markdown",
   "metadata": {},
   "source": [
    "## Split Descriptive and Target Features"
   ]
  },
  {
   "cell_type": "code",
   "execution_count": 17,
   "metadata": {},
   "outputs": [],
   "source": [
    "#extract descriptive features\n",
    "Data = df_user_sample.drop(columns='Activity').values\n",
    "\n",
    "#extract target feature\n",
    "Target = df_user_sample['Activity'].values"
   ]
  },
  {
   "cell_type": "code",
   "execution_count": 18,
   "metadata": {},
   "outputs": [
    {
     "name": "stdout",
     "output_type": "stream",
     "text": [
      "Dimensions of descriptive feature data: (100000, 18)\n",
      "Dimensions of Target feature data: (100000,)\n"
     ]
    }
   ],
   "source": [
    "#check dimensions for descriptive and target feature data after splitting\n",
    "print('Dimensions of descriptive feature data:', Data.shape)\n",
    "print('Dimensions of Target feature data:', Target.shape)"
   ]
  },
  {
   "cell_type": "markdown",
   "metadata": {},
   "source": [
    "## Perform Scaling"
   ]
  },
  {
   "cell_type": "code",
   "execution_count": 19,
   "metadata": {},
   "outputs": [],
   "source": [
    "#import preprocessing module from sklearn package\n",
    "from sklearn import preprocessing\n",
    "\n",
    "#perform min-max normalisation\n",
    "Data = preprocessing.StandardScaler().fit_transform(Data)"
   ]
  },
  {
   "cell_type": "code",
   "execution_count": 20,
   "metadata": {},
   "outputs": [
    {
     "name": "stdout",
     "output_type": "stream",
     "text": [
      "Datatype for descriptive feature data: <class 'numpy.ndarray'>\n",
      "\n",
      "Datatype for target feature data: <class 'numpy.ndarray'>\n"
     ]
    }
   ],
   "source": [
    "#verify data types for descriptive and target feature data\n",
    "print('Datatype for descriptive feature data:', type(Data))\n",
    "print('\\nDatatype for target feature data:', type(Target))"
   ]
  },
  {
   "cell_type": "markdown",
   "metadata": {},
   "source": [
    "# Task 2.1: Explore each column"
   ]
  },
  {
   "cell_type": "code",
   "execution_count": 21,
   "metadata": {},
   "outputs": [
    {
     "data": {
      "image/png": "[encoded data removed]",
      "text/plain": [
       "<Figure size 432x288 with 1 Axes>"
      ]
     },
     "metadata": {},
     "output_type": "display_data"
    }
   ],
   "source": [
    "#import pyplot module from matplotlib package\n",
    "import matplotlib.pyplot as plt\n",
    "\n",
    "#plot frequency distribution for values in Target feature Activity\n",
    "labels = ['1: Working at Computer', '2: Standing Up, Walking and Going updown stairs', '3: Standing',\\\n",
    "          '4: Walking', '5: Going Up-Down Stairs', '6: Walking and Talking with Someone', '7: Talking while Standing']\n",
    "df_user_dat['Activity'].value_counts().plot(kind = 'pie', \n",
    "                                            autopct = '%.1f', \n",
    "                                            textprops={'fontsize': 10},\n",
    "                                            labels = ['','','','','','',''])\n",
    "plt.title(\"Frequency Distribution for values in Target Feature: Activity\")\n",
    "plt.legend(labels, loc=\"right\",bbox_to_anchor=(2.35,0.65), title = 'Activity')\n",
    "plt.ylabel(' ')\n",
    "plt.show()"
   ]
  },
  {
   "cell_type": "code",
   "execution_count": 22,
   "metadata": {},
   "outputs": [
    {
     "data": {
      "image/png": "[encoded data removed]",
      "text/plain": [
       "<Figure size 432x288 with 1 Axes>"
      ]
     },
     "metadata": {
      "needs_background": "light"
     },
     "output_type": "display_data"
    }
   ],
   "source": [
    "#plot histogram for X acceleration values\n",
    "plt.hist(df_user_dat['X'], edgecolor = 'black')\n",
    "plt.title('Histogram for X acceleration')\n",
    "plt.xlabel('Acceleration Values')\n",
    "plt.ylabel('Frequency')\n",
    "plt.show()"
   ]
  },
  {
   "cell_type": "code",
   "execution_count": 23,
   "metadata": {},
   "outputs": [
    {
     "data": {
      "image/png": "[encoded data removed]",
      "text/plain": [
       "<Figure size 432x288 with 1 Axes>"
      ]
     },
     "metadata": {
      "needs_background": "light"
     },
     "output_type": "display_data"
    }
   ],
   "source": [
    "#plot histogram for Y acceleration values\n",
    "plt.hist(df_user_dat['Y'], edgecolor = 'black')\n",
    "plt.title('Histogram for Y acceleration')\n",
    "plt.xlabel('Acceleration Values')\n",
    "plt.ylabel('Frequency')\n",
    "plt.show()"
   ]
  },
  {
   "cell_type": "code",
   "execution_count": 24,
   "metadata": {},
   "outputs": [
    {
     "data": {
      "image/png": "[encoded data removed]",
      "text/plain": [
       "<Figure size 432x288 with 1 Axes>"
      ]
     },
     "metadata": {
      "needs_background": "light"
     },
     "output_type": "display_data"
    }
   ],
   "source": [
    "#plot histogram for z acceleration values\n",
    "plt.hist(df_user_dat['Z'], edgecolor = 'black')\n",
    "plt.title('Histogram for Z acceleration')\n",
    "plt.xlabel('Acceleration Values')\n",
    "plt.ylabel('Frequency')\n",
    "plt.show()"
   ]
  },
  {
   "cell_type": "code",
   "execution_count": 25,
   "metadata": {},
   "outputs": [
    {
     "data": {
      "image/png": "[encoded data removed]",
      "text/plain": [
       "<Figure size 432x288 with 1 Axes>"
      ]
     },
     "metadata": {
      "needs_background": "light"
     },
     "output_type": "display_data"
    }
   ],
   "source": [
    "#plot bar chart displaying number of instances recorded for each user\n",
    "plt.bar(df_user_dat['User'].unique(), df_user_dat['User'].value_counts(), edgecolor = 'black')\n",
    "plt.title('Number of instances for each user')\n",
    "plt.xlabel('User')\n",
    "plt.xticks(rotation = 90)\n",
    "plt.ylabel('Counts')\n",
    "plt.show()"
   ]
  },
  {
   "cell_type": "markdown",
   "metadata": {},
   "source": [
    "# Task 2.2: Explore the relationship between pairs of attributes"
   ]
  },
  {
   "cell_type": "code",
   "execution_count": 26,
   "metadata": {},
   "outputs": [
    {
     "data": {
      "text/html": [
       "<div>\n",
       "<style scoped>\n",
       "    .dataframe tbody tr th:only-of-type {\n",
       "        vertical-align: middle;\n",
       "    }\n",
       "\n",
       "    .dataframe tbody tr th {\n",
       "        vertical-align: top;\n",
       "    }\n",
       "\n",
       "    .dataframe thead th {\n",
       "        text-align: right;\n",
       "    }\n",
       "</style>\n",
       "<table border=\"1\" class=\"dataframe\">\n",
       "  <thead>\n",
       "    <tr style=\"text-align: right;\">\n",
       "      <th></th>\n",
       "      <th>X</th>\n",
       "      <th>Y</th>\n",
       "      <th>Z</th>\n",
       "    </tr>\n",
       "  </thead>\n",
       "  <tbody>\n",
       "    <tr>\n",
       "      <th>X</th>\n",
       "      <td>1.00</td>\n",
       "      <td>0.36</td>\n",
       "      <td>0.01</td>\n",
       "    </tr>\n",
       "    <tr>\n",
       "      <th>Y</th>\n",
       "      <td>0.36</td>\n",
       "      <td>1.00</td>\n",
       "      <td>0.35</td>\n",
       "    </tr>\n",
       "    <tr>\n",
       "      <th>Z</th>\n",
       "      <td>0.01</td>\n",
       "      <td>0.35</td>\n",
       "      <td>1.00</td>\n",
       "    </tr>\n",
       "  </tbody>\n",
       "</table>\n",
       "</div>"
      ],
      "text/plain": [
       "      X     Y     Z\n",
       "X  1.00  0.36  0.01\n",
       "Y  0.36  1.00  0.35\n",
       "Z  0.01  0.35  1.00"
      ]
     },
     "execution_count": 26,
     "metadata": {},
     "output_type": "execute_result"
    }
   ],
   "source": [
    "#compute correlation for X, Y and Z acceleration values\n",
    "df_user_dat[['X','Y', 'Z']].corr().round(2)"
   ]
  },
  {
   "cell_type": "code",
   "execution_count": 27,
   "metadata": {},
   "outputs": [
    {
     "data": {
      "image/png": "[encoded data removed]",
      "text/plain": [
       "<Figure size 432x288 with 1 Axes>"
      ]
     },
     "metadata": {
      "needs_background": "light"
     },
     "output_type": "display_data"
    }
   ],
   "source": [
    "#scatter plot for X acceleration values v/s Y acceleration values\n",
    "plt.scatter(df_user_dat['X'], df_user_dat['Y'])\n",
    "plt.title('X Acceleration versus Y Acceleration\\n')\n",
    "plt.xlabel('\\nX Acceleration Values')\n",
    "plt.ylabel('Y Acceleration Values\\n')\n",
    "plt.show()"
   ]
  },
  {
   "cell_type": "code",
   "execution_count": 28,
   "metadata": {},
   "outputs": [
    {
     "data": {
      "image/png": "[encoded data removed]",
      "text/plain": [
       "<Figure size 432x288 with 1 Axes>"
      ]
     },
     "metadata": {
      "needs_background": "light"
     },
     "output_type": "display_data"
    }
   ],
   "source": [
    "#scatter plot for Y acceleration values v/s Z acceleration values\n",
    "plt.scatter(df_user_dat['Y'], df_user_dat['Z'])\n",
    "plt.title('Y Acceleration versus Z Acceleration\\n')\n",
    "plt.xlabel('\\nY Acceleration Values')\n",
    "plt.ylabel('Z Acceleration Values\\n')\n",
    "plt.show()"
   ]
  },
  {
   "cell_type": "code",
   "execution_count": 29,
   "metadata": {},
   "outputs": [
    {
     "data": {
      "image/png": "[encoded data removed]",
      "text/plain": [
       "<Figure size 432x288 with 1 Axes>"
      ]
     },
     "metadata": {
      "needs_background": "light"
     },
     "output_type": "display_data"
    }
   ],
   "source": [
    "#scatter plot for X acceleration values v/s Z acceleration values\n",
    "plt.scatter(df_user_dat['X'], df_user_dat['Z'])\n",
    "plt.title('X Acceleration versus Z Acceleration\\n')\n",
    "plt.xlabel('\\nX Acceleration Values')\n",
    "plt.ylabel('Z Acceleration Values\\n')\n",
    "plt.show()"
   ]
  },
  {
   "cell_type": "code",
   "execution_count": 30,
   "metadata": {},
   "outputs": [
    {
     "data": {
      "image/png": "[encoded data removed]",
      "text/plain": [
       "<Figure size 432x288 with 1 Axes>"
      ]
     },
     "metadata": {
      "needs_background": "light"
     },
     "output_type": "display_data"
    }
   ],
   "source": [
    "#scatter plot for activity-wise X acceleration\n",
    "plt.scatter(df_user_dat['Activity'], df_user_dat['X'])\n",
    "plt.title('X acceleration measured for all activities\\n')\n",
    "plt.xlabel('\\nActivity')\n",
    "plt.ylabel('X Acceleration Values\\n')\n",
    "plt.show()"
   ]
  },
  {
   "cell_type": "code",
   "execution_count": 31,
   "metadata": {},
   "outputs": [
    {
     "data": {
      "image/png": "[encoded data removed]",
      "text/plain": [
       "<Figure size 432x288 with 1 Axes>"
      ]
     },
     "metadata": {
      "needs_background": "light"
     },
     "output_type": "display_data"
    }
   ],
   "source": [
    "#scatter plot for user-wise X acceleration\n",
    "plt.scatter(df_user_dat['User'], df_user_dat['X'])\n",
    "plt.title('X acceleration for each User\\n')\n",
    "plt.xlabel('\\nUser')\n",
    "plt.xticks(rotation=90)\n",
    "plt.ylabel('X Acceleration Values\\n')\n",
    "plt.show()"
   ]
  },
  {
   "cell_type": "code",
   "execution_count": 32,
   "metadata": {},
   "outputs": [
    {
     "data": {
      "image/png": "[encoded data removed]",
      "text/plain": [
       "<Figure size 432x288 with 1 Axes>"
      ]
     },
     "metadata": {
      "needs_background": "light"
     },
     "output_type": "display_data"
    }
   ],
   "source": [
    "#scatter plot for activity-wise Y acceleration\n",
    "plt.scatter(df_user_dat['Activity'], df_user_dat['Y'])\n",
    "plt.title('Y acceleration measured for all activities\\n')\n",
    "plt.xlabel('\\nActivity')\n",
    "plt.ylabel('Y Acceleration Values\\n')\n",
    "plt.show()"
   ]
  },
  {
   "cell_type": "code",
   "execution_count": 33,
   "metadata": {},
   "outputs": [
    {
     "data": {
      "image/png": "[encoded data removed]",
      "text/plain": [
       "<Figure size 432x288 with 1 Axes>"
      ]
     },
     "metadata": {
      "needs_background": "light"
     },
     "output_type": "display_data"
    }
   ],
   "source": [
    "#scatter plot for user-wise Y acceleration\n",
    "plt.scatter(df_user_dat['User'], df_user_dat['Y'])\n",
    "plt.title('Y acceleration for each User\\n')\n",
    "plt.xlabel('\\nUser')\n",
    "plt.xticks(rotation=90)\n",
    "plt.ylabel('Y Acceleration Values\\n')\n",
    "plt.show()"
   ]
  },
  {
   "cell_type": "code",
   "execution_count": 34,
   "metadata": {},
   "outputs": [
    {
     "data": {
      "image/png": "[encoded data removed]",
      "text/plain": [
       "<Figure size 432x288 with 1 Axes>"
      ]
     },
     "metadata": {
      "needs_background": "light"
     },
     "output_type": "display_data"
    }
   ],
   "source": [
    "#scatter plot for activity-wise Z acceleration\n",
    "plt.scatter(df_user_dat['Activity'], df_user_dat['Z'])\n",
    "plt.title('Z acceleration measured for all activities\\n')\n",
    "plt.xlabel('\\nActivity')\n",
    "plt.ylabel('Z Acceleration Values\\n')\n",
    "plt.show()"
   ]
  },
  {
   "cell_type": "code",
   "execution_count": 35,
   "metadata": {},
   "outputs": [
    {
     "data": {
      "image/png": "[encoded data removed]",
      "text/plain": [
       "<Figure size 432x288 with 1 Axes>"
      ]
     },
     "metadata": {
      "needs_background": "light"
     },
     "output_type": "display_data"
    }
   ],
   "source": [
    "#scatter plot for user-wise Z acceleration\n",
    "plt.scatter(df_user_dat['User'], df_user_dat['Z'])\n",
    "plt.title('Z acceleration for each User\\n')\n",
    "plt.xlabel('\\nUser')\n",
    "plt.xticks(rotation=90)\n",
    "plt.ylabel('Z Acceleration Values\\n')\n",
    "plt.show()"
   ]
  },
  {
   "cell_type": "code",
   "execution_count": 36,
   "metadata": {},
   "outputs": [
    {
     "data": {
      "image/png": "[encoded data removed]",
      "text/plain": [
       "<Figure size 432x288 with 1 Axes>"
      ]
     },
     "metadata": {
      "needs_background": "light"
     },
     "output_type": "display_data"
    }
   ],
   "source": [
    "#plot stacked bar graph to display activity distribution for each user\n",
    "labels = ['1: Working at Computer', '2: Standing Up, Walking and Going updown stairs', '3: Standing',\\\n",
    "          '4: Walking', '5: Going Up-Down Stairs', '6: Walking and Talking with Someone', '7: Talking while Standing']\n",
    "df_user_dat.groupby(['User', 'Activity']).size().unstack().plot.bar(stacked = True)\n",
    "plt.title('Activity Distribution for each User')\n",
    "plt.xlabel('\\nUser')\n",
    "plt.ylabel('Counts')\n",
    "plt.legend(labels, loc=\"right\",bbox_to_anchor=(2,0.75), title = 'Activity')\n",
    "plt.show()"
   ]
  },
  {
   "cell_type": "markdown",
   "metadata": {},
   "source": [
    "# Task 3: Data Modelling"
   ]
  },
  {
   "cell_type": "markdown",
   "metadata": {},
   "source": [
    "## Setting the stage"
   ]
  },
  {
   "cell_type": "code",
   "execution_count": 37,
   "metadata": {},
   "outputs": [],
   "source": [
    "#import the required modules from scikit-learn package\n",
    "from sklearn.model_selection import train_test_split\n",
    "from sklearn.model_selection import cross_val_score\n",
    "from sklearn.model_selection import GridSearchCV\n",
    "from sklearn.feature_selection import SelectKBest, f_classif, mutual_info_classif\n",
    "\n",
    "from sklearn.pipeline import Pipeline\n",
    "\n",
    "from sklearn import preprocessing, metrics\n",
    "from scipy import stats\n",
    "\n",
    "from sklearn.neighbors import KNeighborsClassifier\n",
    "from sklearn.tree import DecisionTreeClassifier"
   ]
  },
  {
   "cell_type": "code",
   "execution_count": 38,
   "metadata": {},
   "outputs": [],
   "source": [
    "%%capture\n",
    "\n",
    "#fix jupyter-altair compatibility issue\n",
    "!pip install --upgrade altair\n",
    "!pip install vega vega_datasets\n",
    "\n",
    "#import altair package\n",
    "import altair as alt\n",
    "alt.renderers.enable('html')"
   ]
  },
  {
   "cell_type": "code",
   "execution_count": 39,
   "metadata": {},
   "outputs": [],
   "source": [
    "#custom function to format the hyper-paramter tuning results as a Pandas data frame\n",
    "def get_results(gs):\n",
    "\n",
    "    def model_result(scores, params):\n",
    "        scores = {'mean_score': np.mean(scores)}\n",
    "        return pd.Series({**params,**scores})\n",
    "\n",
    "    models = []\n",
    "    scores = []\n",
    "\n",
    "    for i in range(gs.n_splits_):\n",
    "        key = f\"split{i}_test_score\"\n",
    "        r = gs.cv_results_[key]        \n",
    "        scores.append(r.reshape(-1,1))\n",
    "\n",
    "    all_scores = np.hstack(scores)\n",
    "    for p, s in zip(gs.cv_results_['params'], all_scores):\n",
    "        models.append((model_result(s, p)))\n",
    "\n",
    "    pipe_results = pd.concat(models, axis=1).T.sort_values(['mean_score'], ascending=False)\n",
    "\n",
    "    columns_first = ['mean_score']\n",
    "    columns = columns_first + [c for c in pipe_results.columns if c not in columns_first]\n",
    "\n",
    "    return pipe_results[columns]"
   ]
  },
  {
   "cell_type": "markdown",
   "metadata": {},
   "source": [
    "## Split train and test data"
   ]
  },
  {
   "cell_type": "code",
   "execution_count": 40,
   "metadata": {},
   "outputs": [],
   "source": [
    "#split descritpive and target feature data into train and test\n",
    "train_data, test_data, train_target, test_target = train_test_split(Data, \n",
    "                                                                    Target, \n",
    "                                                                    test_size = 0.3, \n",
    "                                                                    stratify = Target, \n",
    "                                                                    random_state = 111)"
   ]
  },
  {
   "cell_type": "code",
   "execution_count": 41,
   "metadata": {
    "scrolled": true
   },
   "outputs": [
    {
     "name": "stdout",
     "output_type": "stream",
     "text": [
      "For Train Data:\n",
      "Rows: 70000 , Columns: 18\n",
      "\n",
      "For Train Target:\n",
      "Rows: 70000\n",
      "\n",
      "For Test Data:\n",
      "Rows: 30000 , Columns: 18\n",
      "\n",
      "For Test Target:\n",
      "Rows: 30000\n"
     ]
    }
   ],
   "source": [
    "#verify if the data has been correctly split\n",
    "print('For Train Data:')\n",
    "print('Rows:', train_data.shape[0], ', Columns:', train_data.shape[1])\n",
    "\n",
    "print('\\nFor Train Target:')\n",
    "print('Rows:', train_target.shape[0])\n",
    "\n",
    "print('\\nFor Test Data:')\n",
    "print('Rows:', test_data.shape[0], ', Columns:', test_data.shape[1])\n",
    "\n",
    "print('\\nFor Test Target:')\n",
    "print('Rows:', test_target.shape[0])"
   ]
  },
  {
   "cell_type": "markdown",
   "metadata": {},
   "source": [
    "## Feature Selection, Hyper-parameter Tuning and Training the Model"
   ]
  },
  {
   "cell_type": "markdown",
   "metadata": {},
   "source": [
    "### For k-Nearest Neighbours"
   ]
  },
  {
   "cell_type": "code",
   "execution_count": 42,
   "metadata": {
    "scrolled": false
   },
   "outputs": [
    {
     "name": "stdout",
     "output_type": "stream",
     "text": [
      "Fitting 7 folds for each of 60 candidates, totalling 420 fits\n"
     ]
    },
    {
     "name": "stderr",
     "output_type": "stream",
     "text": [
      "[Parallel(n_jobs=-2)]: Using backend LokyBackend with 7 concurrent workers.\n",
      "[Parallel(n_jobs=-2)]: Done  36 tasks      | elapsed:  5.9min\n",
      "[Parallel(n_jobs=-2)]: Done 186 tasks      | elapsed: 16.7min\n",
      "[Parallel(n_jobs=-2)]: Done 420 out of 420 | elapsed: 49.6min finished\n"
     ]
    },
    {
     "data": {
      "text/plain": [
       "GridSearchCV(cv=7, error_score=nan,\n",
       "             estimator=Pipeline(memory=None,\n",
       "                                steps=[('fselector',\n",
       "                                        SelectKBest(k=10,\n",
       "                                                    score_func=<function f_classif at 0x000001502DD42D38>)),\n",
       "                                       ('knn',\n",
       "                                        KNeighborsClassifier(algorithm='auto',\n",
       "                                                             leaf_size=30,\n",
       "                                                             metric='minkowski',\n",
       "                                                             metric_params=None,\n",
       "                                                             n_jobs=None,\n",
       "                                                             n_neighbors=5, p=2,\n",
       "                                                             weights='uniform'))],\n",
       "                                verbose=False),\n",
       "             iid='deprecated', n_jobs=-2,\n",
       "             param_grid={'fselector__k': [3, 10, 18],\n",
       "                         'fselector__score_func': [<function f_classif at 0x000001502DD42D38>,\n",
       "                                                   <function mutual_info_classif at 0x0000015030096438>],\n",
       "                         'knn__n_neighbors': [1, 5, 10, 50, 100],\n",
       "                         'knn__p': [1, 2]},\n",
       "             pre_dispatch='2*n_jobs', refit=True, return_train_score=True,\n",
       "             scoring='accuracy', verbose=1)"
      ]
     },
     "execution_count": 42,
     "metadata": {},
     "output_type": "execute_result"
    }
   ],
   "source": [
    "#define the k-NN model pipeline\n",
    "pipe_kNN = Pipeline([('fselector', SelectKBest()), \n",
    "                     ('knn', KNeighborsClassifier())])\n",
    "\n",
    "#define the parameters to be considered for tuning the k-NN model\n",
    "params_pipe_kNN = {'fselector__score_func': [f_classif, mutual_info_classif],\n",
    "                   'fselector__k': [3, 10, 18],\n",
    "                   'knn__n_neighbors': [1, 5, 10, 50, 100],\n",
    "                   'knn__p': [1, 2]}\n",
    "\n",
    "#define the hyper-parameter tuning strategy for k-NN model\n",
    "gs_kNN = GridSearchCV(estimator = pipe_kNN, \n",
    "                      param_grid = params_pipe_kNN, \n",
    "                      cv = 7,\n",
    "                      verbose = 1,\n",
    "                      scoring = 'accuracy', \n",
    "                      n_jobs = -2,\n",
    "                      return_train_score = True)\n",
    "\n",
    "#train the k-NN model and perform hyper-parameter tuning\n",
    "gs_kNN.fit(train_data, train_target)"
   ]
  },
  {
   "cell_type": "code",
   "execution_count": 43,
   "metadata": {},
   "outputs": [
    {
     "data": {
      "text/plain": [
       "{'fselector__k': 18,\n",
       " 'fselector__score_func': <function sklearn.feature_selection._univariate_selection.f_classif(X, y)>,\n",
       " 'knn__n_neighbors': 10,\n",
       " 'knn__p': 2}"
      ]
     },
     "execution_count": 43,
     "metadata": {},
     "output_type": "execute_result"
    }
   ],
   "source": [
    "#display the best parameters identified for k-NN model\n",
    "gs_kNN.best_params_"
   ]
  },
  {
   "cell_type": "code",
   "execution_count": 44,
   "metadata": {},
   "outputs": [
    {
     "data": {
      "text/html": [
       "\n",
       "<div id=\"altair-viz-e58ef210463045e7ba77d1af82f42d53\"></div>\n",
       "<script type=\"text/javascript\">\n",
       "  (function(spec, embedOpt){\n",
       "    let outputDiv = document.currentScript.previousElementSibling;\n",
       "    if (outputDiv.id !== \"altair-viz-e58ef210463045e7ba77d1af82f42d53\") {\n",
       "      outputDiv = document.getElementById(\"altair-viz-e58ef210463045e7ba77d1af82f42d53\");\n",
       "    }\n",
       "    const paths = {\n",
       "      \"vega\": \"https://cdn.jsdelivr.net/npm//vega@5?noext\",\n",
       "      \"vega-lib\": \"https://cdn.jsdelivr.net/npm//vega-lib?noext\",\n",
       "      \"vega-lite\": \"https://cdn.jsdelivr.net/npm//vega-lite@4.8.1?noext\",\n",
       "      \"vega-embed\": \"https://cdn.jsdelivr.net/npm//vega-embed@6?noext\",\n",
       "    };\n",
       "\n",
       "    function loadScript(lib) {\n",
       "      return new Promise(function(resolve, reject) {\n",
       "        var s = document.createElement('script');\n",
       "        s.src = paths[lib];\n",
       "        s.async = true;\n",
       "        s.onload = () => resolve(paths[lib]);\n",
       "        s.onerror = () => reject(`Error loading script: ${paths[lib]}`);\n",
       "        document.getElementsByTagName(\"head\")[0].appendChild(s);\n",
       "      });\n",
       "    }\n",
       "\n",
       "    function showError(err) {\n",
       "      outputDiv.innerHTML = `<div class=\"error\" style=\"color:red;\">${err}</div>`;\n",
       "      throw err;\n",
       "    }\n",
       "\n",
       "    function displayChart(vegaEmbed) {\n",
       "      vegaEmbed(outputDiv, spec, embedOpt)\n",
       "        .catch(err => showError(`Javascript Error: ${err.message}<br>This usually means there's a typo in your chart specification. See the javascript console for the full traceback.`));\n",
       "    }\n",
       "\n",
       "    if(typeof define === \"function\" && define.amd) {\n",
       "      requirejs.config({paths});\n",
       "      require([\"vega-embed\"], displayChart, err => showError(`Error loading script: ${err.message}`));\n",
       "    } else if (typeof vegaEmbed === \"function\") {\n",
       "      displayChart(vegaEmbed);\n",
       "    } else {\n",
       "      loadScript(\"vega\")\n",
       "        .then(() => loadScript(\"vega-lite\"))\n",
       "        .then(() => loadScript(\"vega-embed\"))\n",
       "        .catch(showError)\n",
       "        .then(() => displayChart(vegaEmbed));\n",
       "    }\n",
       "  })({\"config\": {\"view\": {\"continuousWidth\": 400, \"continuousHeight\": 300}}, \"data\": {\"name\": \"data-951738f1eb13a7e51ac47601d124541f\"}, \"mark\": {\"type\": \"line\", \"point\": true}, \"encoding\": {\"color\": {\"type\": \"nominal\", \"field\": \"knn__p\", \"title\": \"p\"}, \"x\": {\"type\": \"quantitative\", \"field\": \"knn__n_neighbors\", \"title\": \"Number of Neighbors\"}, \"y\": {\"type\": \"quantitative\", \"field\": \"mean_score\", \"scale\": {\"zero\": false}, \"title\": \"Accuracy\"}}, \"title\": \"Hyper-parameter Tuning Results: K-Nearest Neighbours\", \"$schema\": \"https://vega.github.io/schema/vega-lite/v4.8.1.json\", \"datasets\": {\"data-951738f1eb13a7e51ac47601d124541f\": [{\"mean_score\": 0.7902571428571428, \"knn__n_neighbors\": 10, \"knn__p\": 2}, {\"mean_score\": 0.7902571428571428, \"knn__n_neighbors\": 10, \"knn__p\": 2}, {\"mean_score\": 0.7894, \"knn__n_neighbors\": 10, \"knn__p\": 1}, {\"mean_score\": 0.7894, \"knn__n_neighbors\": 10, \"knn__p\": 1}, {\"mean_score\": 0.7843285714285714, \"knn__n_neighbors\": 50, \"knn__p\": 2}, {\"mean_score\": 0.7843285714285714, \"knn__n_neighbors\": 50, \"knn__p\": 2}, {\"mean_score\": 0.7822142857142856, \"knn__n_neighbors\": 50, \"knn__p\": 1}, {\"mean_score\": 0.7822142857142856, \"knn__n_neighbors\": 50, \"knn__p\": 1}, {\"mean_score\": 0.7789571428571429, \"knn__n_neighbors\": 5, \"knn__p\": 2}, {\"mean_score\": 0.7789571428571429, \"knn__n_neighbors\": 5, \"knn__p\": 2}, {\"mean_score\": 0.7779571428571429, \"knn__n_neighbors\": 5, \"knn__p\": 1}, {\"mean_score\": 0.7779571428571429, \"knn__n_neighbors\": 5, \"knn__p\": 1}, {\"mean_score\": 0.7716, \"knn__n_neighbors\": 100, \"knn__p\": 2}, {\"mean_score\": 0.7716, \"knn__n_neighbors\": 100, \"knn__p\": 2}, {\"mean_score\": 0.7685000000000001, \"knn__n_neighbors\": 100, \"knn__p\": 1}, {\"mean_score\": 0.7685000000000001, \"knn__n_neighbors\": 100, \"knn__p\": 1}, {\"mean_score\": 0.7327428571428571, \"knn__n_neighbors\": 1, \"knn__p\": 1}, {\"mean_score\": 0.7327428571428571, \"knn__n_neighbors\": 1, \"knn__p\": 1}, {\"mean_score\": 0.7321857142857143, \"knn__n_neighbors\": 1, \"knn__p\": 2}, {\"mean_score\": 0.7321857142857143, \"knn__n_neighbors\": 1, \"knn__p\": 2}]}}, {\"mode\": \"vega-lite\"});\n",
       "</script>"
      ],
      "text/plain": [
       "alt.Chart(...)"
      ]
     },
     "execution_count": 44,
     "metadata": {},
     "output_type": "execute_result"
    }
   ],
   "source": [
    "#fetch performance scores for all combinations of hyper-parameters\n",
    "result_kNN = get_results(gs_kNN)\n",
    "\n",
    "#plot the performance scores for K-Nearest Neighbour model\n",
    "alt.Chart(result_kNN.loc[result_kNN['fselector__k'] == 18, ['mean_score','knn__n_neighbors','knn__p']], \n",
    "          title = 'Hyper-parameter Tuning Results: K-Nearest Neighbours'\n",
    "         ).mark_line(point=True).encode(alt.X('knn__n_neighbors', title = 'Number of Neighbors'),\n",
    "                                        alt.Y('mean_score', title = 'Accuracy', scale = alt.Scale(zero = False)),\n",
    "                                        alt.Color('knn__p:N', title = 'p')\n",
    ")"
   ]
  },
  {
   "cell_type": "markdown",
   "metadata": {},
   "source": [
    "### For Decision Tree"
   ]
  },
  {
   "cell_type": "code",
   "execution_count": 45,
   "metadata": {
    "scrolled": false
   },
   "outputs": [
    {
     "name": "stdout",
     "output_type": "stream",
     "text": [
      "Fitting 7 folds for each of 108 candidates, totalling 756 fits\n"
     ]
    },
    {
     "name": "stderr",
     "output_type": "stream",
     "text": [
      "[Parallel(n_jobs=-2)]: Using backend LokyBackend with 7 concurrent workers.\n",
      "[Parallel(n_jobs=-2)]: Done  49 tasks      | elapsed:  2.3min\n",
      "[Parallel(n_jobs=-2)]: Done 200 tasks      | elapsed:  8.3min\n",
      "[Parallel(n_jobs=-2)]: Done 450 tasks      | elapsed: 19.2min\n",
      "[Parallel(n_jobs=-2)]: Done 756 out of 756 | elapsed: 30.1min finished\n"
     ]
    },
    {
     "data": {
      "text/plain": [
       "GridSearchCV(cv=7, error_score=nan,\n",
       "             estimator=Pipeline(memory=None,\n",
       "                                steps=[('fselector',\n",
       "                                        SelectKBest(k=10,\n",
       "                                                    score_func=<function f_classif at 0x000001502DD42D38>)),\n",
       "                                       ('dt',\n",
       "                                        DecisionTreeClassifier(ccp_alpha=0.0,\n",
       "                                                               class_weight=None,\n",
       "                                                               criterion='gini',\n",
       "                                                               max_depth=None,\n",
       "                                                               max_features=None,\n",
       "                                                               max_leaf_nodes=None,\n",
       "                                                               min_impurity_decrease=0.0,\n",
       "                                                               min_impurity_split=None,\n",
       "                                                               min_samples_le...\n",
       "             iid='deprecated', n_jobs=-2,\n",
       "             param_grid={'dt__criterion': ['gini', 'entropy'],\n",
       "                         'dt__max_depth': [3, 5, 10],\n",
       "                         'dt__min_samples_split': [50, 100, 500],\n",
       "                         'fselector__k': [3, 10, 18],\n",
       "                         'fselector__score_func': [<function f_classif at 0x000001502DD42D38>,\n",
       "                                                   <function mutual_info_classif at 0x0000015030096438>]},\n",
       "             pre_dispatch='2*n_jobs', refit=True, return_train_score=True,\n",
       "             scoring='accuracy', verbose=1)"
      ]
     },
     "execution_count": 45,
     "metadata": {},
     "output_type": "execute_result"
    }
   ],
   "source": [
    "#define the DT model pipeline\n",
    "pipe_DT = Pipeline([('fselector', SelectKBest()), \n",
    "                    ('dt', DecisionTreeClassifier())])\n",
    "\n",
    "#define the parameters to be considered for tuning the DT model\n",
    "params_pipe_DT = {'fselector__score_func': [f_classif, mutual_info_classif],\n",
    "                  'fselector__k': [3, 10, 18],\n",
    "                  'dt__criterion': ['gini', 'entropy'],\n",
    "                  'dt__max_depth': [3, 5, 10],\n",
    "                  'dt__min_samples_split': [50, 100, 500]}\n",
    "\n",
    "#define the hyper-parameter tuning strategy for DT model\n",
    "gs_DT = GridSearchCV(estimator = pipe_DT, \n",
    "                      param_grid = params_pipe_DT, \n",
    "                      cv = 7,\n",
    "                      verbose = 1,\n",
    "                      scoring = 'accuracy', \n",
    "                      n_jobs = -2,\n",
    "                      return_train_score = True)\n",
    "\n",
    "#train the DT model and perform hyper-parameter tuning\n",
    "gs_DT.fit(train_data, train_target)"
   ]
  },
  {
   "cell_type": "code",
   "execution_count": 46,
   "metadata": {},
   "outputs": [
    {
     "data": {
      "text/plain": [
       "{'dt__criterion': 'gini',\n",
       " 'dt__max_depth': 10,\n",
       " 'dt__min_samples_split': 50,\n",
       " 'fselector__k': 10,\n",
       " 'fselector__score_func': <function sklearn.feature_selection._mutual_info.mutual_info_classif(X, y, discrete_features='auto', n_neighbors=3, copy=True, random_state=None)>}"
      ]
     },
     "execution_count": 46,
     "metadata": {},
     "output_type": "execute_result"
    }
   ],
   "source": [
    "#display the best parameters identified for DT model\n",
    "gs_DT.best_params_"
   ]
  },
  {
   "cell_type": "code",
   "execution_count": 47,
   "metadata": {},
   "outputs": [
    {
     "data": {
      "text/html": [
       "\n",
       "<div id=\"altair-viz-e2fb6065261f434ebb6897fbe884ea6d\"></div>\n",
       "<script type=\"text/javascript\">\n",
       "  (function(spec, embedOpt){\n",
       "    let outputDiv = document.currentScript.previousElementSibling;\n",
       "    if (outputDiv.id !== \"altair-viz-e2fb6065261f434ebb6897fbe884ea6d\") {\n",
       "      outputDiv = document.getElementById(\"altair-viz-e2fb6065261f434ebb6897fbe884ea6d\");\n",
       "    }\n",
       "    const paths = {\n",
       "      \"vega\": \"https://cdn.jsdelivr.net/npm//vega@5?noext\",\n",
       "      \"vega-lib\": \"https://cdn.jsdelivr.net/npm//vega-lib?noext\",\n",
       "      \"vega-lite\": \"https://cdn.jsdelivr.net/npm//vega-lite@4.8.1?noext\",\n",
       "      \"vega-embed\": \"https://cdn.jsdelivr.net/npm//vega-embed@6?noext\",\n",
       "    };\n",
       "\n",
       "    function loadScript(lib) {\n",
       "      return new Promise(function(resolve, reject) {\n",
       "        var s = document.createElement('script');\n",
       "        s.src = paths[lib];\n",
       "        s.async = true;\n",
       "        s.onload = () => resolve(paths[lib]);\n",
       "        s.onerror = () => reject(`Error loading script: ${paths[lib]}`);\n",
       "        document.getElementsByTagName(\"head\")[0].appendChild(s);\n",
       "      });\n",
       "    }\n",
       "\n",
       "    function showError(err) {\n",
       "      outputDiv.innerHTML = `<div class=\"error\" style=\"color:red;\">${err}</div>`;\n",
       "      throw err;\n",
       "    }\n",
       "\n",
       "    function displayChart(vegaEmbed) {\n",
       "      vegaEmbed(outputDiv, spec, embedOpt)\n",
       "        .catch(err => showError(`Javascript Error: ${err.message}<br>This usually means there's a typo in your chart specification. See the javascript console for the full traceback.`));\n",
       "    }\n",
       "\n",
       "    if(typeof define === \"function\" && define.amd) {\n",
       "      requirejs.config({paths});\n",
       "      require([\"vega-embed\"], displayChart, err => showError(`Error loading script: ${err.message}`));\n",
       "    } else if (typeof vegaEmbed === \"function\") {\n",
       "      displayChart(vegaEmbed);\n",
       "    } else {\n",
       "      loadScript(\"vega\")\n",
       "        .then(() => loadScript(\"vega-lite\"))\n",
       "        .then(() => loadScript(\"vega-embed\"))\n",
       "        .catch(showError)\n",
       "        .then(() => displayChart(vegaEmbed));\n",
       "    }\n",
       "  })({\"config\": {\"view\": {\"continuousWidth\": 400, \"continuousHeight\": 300}}, \"data\": {\"name\": \"data-26f9e114b93673a831175e58dd9dd429\"}, \"mark\": {\"type\": \"line\", \"point\": true}, \"encoding\": {\"color\": {\"type\": \"nominal\", \"field\": \"dt__max_depth\", \"title\": \"Maximum Depth\"}, \"x\": {\"type\": \"quantitative\", \"field\": \"dt__min_samples_split\", \"title\": \"Minimum Samples for Split\"}, \"y\": {\"type\": \"quantitative\", \"field\": \"mean_score\", \"scale\": {\"zero\": false}, \"title\": \"Accuracy\"}}, \"title\": \"Hyper-parameter Tuning Results: Decision Tree\", \"$schema\": \"https://vega.github.io/schema/vega-lite/v4.8.1.json\", \"datasets\": {\"data-26f9e114b93673a831175e58dd9dd429\": [{\"mean_score\": 0.7157857142857142, \"dt__min_samples_split\": 50, \"dt__max_depth\": 10}, {\"mean_score\": 0.7117428571428572, \"dt__min_samples_split\": 100, \"dt__max_depth\": 10}, {\"mean_score\": 0.7098857142857143, \"dt__min_samples_split\": 100, \"dt__max_depth\": 10}, {\"mean_score\": 0.7087857142857142, \"dt__min_samples_split\": 50, \"dt__max_depth\": 10}, {\"mean_score\": 0.7024714285714285, \"dt__min_samples_split\": 500, \"dt__max_depth\": 10}, {\"mean_score\": 0.6959142857142858, \"dt__min_samples_split\": 500, \"dt__max_depth\": 10}, {\"mean_score\": 0.5892428571428573, \"dt__min_samples_split\": 100, \"dt__max_depth\": 10}, {\"mean_score\": 0.5890000000000001, \"dt__min_samples_split\": 50, \"dt__max_depth\": 10}, {\"mean_score\": 0.5883428571428572, \"dt__min_samples_split\": 500, \"dt__max_depth\": 10}, {\"mean_score\": 0.5882714285714286, \"dt__min_samples_split\": 100, \"dt__max_depth\": 10}, {\"mean_score\": 0.5880428571428572, \"dt__min_samples_split\": 50, \"dt__max_depth\": 10}, {\"mean_score\": 0.5856714285714285, \"dt__min_samples_split\": 500, \"dt__max_depth\": 10}, {\"mean_score\": 0.5845857142857142, \"dt__min_samples_split\": 100, \"dt__max_depth\": 5}, {\"mean_score\": 0.5840857142857142, \"dt__min_samples_split\": 500, \"dt__max_depth\": 5}, {\"mean_score\": 0.5806857142857142, \"dt__min_samples_split\": 50, \"dt__max_depth\": 5}, {\"mean_score\": 0.5764857142857143, \"dt__min_samples_split\": 500, \"dt__max_depth\": 5}, {\"mean_score\": 0.5755857142857143, \"dt__min_samples_split\": 100, \"dt__max_depth\": 5}, {\"mean_score\": 0.5734571428571428, \"dt__min_samples_split\": 50, \"dt__max_depth\": 5}, {\"mean_score\": 0.5517, \"dt__min_samples_split\": 100, \"dt__max_depth\": 5}, {\"mean_score\": 0.5516857142857143, \"dt__min_samples_split\": 50, \"dt__max_depth\": 5}, {\"mean_score\": 0.5505571428571429, \"dt__min_samples_split\": 500, \"dt__max_depth\": 5}, {\"mean_score\": 0.5504428571428572, \"dt__min_samples_split\": 50, \"dt__max_depth\": 5}, {\"mean_score\": 0.5504142857142857, \"dt__min_samples_split\": 100, \"dt__max_depth\": 5}, {\"mean_score\": 0.5501142857142858, \"dt__min_samples_split\": 500, \"dt__max_depth\": 5}, {\"mean_score\": 0.4870714285714285, \"dt__min_samples_split\": 50, \"dt__max_depth\": 3}, {\"mean_score\": 0.4870714285714285, \"dt__min_samples_split\": 500, \"dt__max_depth\": 3}, {\"mean_score\": 0.4870142857142857, \"dt__min_samples_split\": 100, \"dt__max_depth\": 3}, {\"mean_score\": 0.48662857142857147, \"dt__min_samples_split\": 50, \"dt__max_depth\": 3}, {\"mean_score\": 0.48662857142857147, \"dt__min_samples_split\": 100, \"dt__max_depth\": 3}, {\"mean_score\": 0.48662857142857147, \"dt__min_samples_split\": 500, \"dt__max_depth\": 3}, {\"mean_score\": 0.4795714285714286, \"dt__min_samples_split\": 500, \"dt__max_depth\": 3}, {\"mean_score\": 0.4795714285714286, \"dt__min_samples_split\": 50, \"dt__max_depth\": 3}, {\"mean_score\": 0.4795714285714286, \"dt__min_samples_split\": 100, \"dt__max_depth\": 3}, {\"mean_score\": 0.4790285714285714, \"dt__min_samples_split\": 500, \"dt__max_depth\": 3}, {\"mean_score\": 0.4790285714285714, \"dt__min_samples_split\": 50, \"dt__max_depth\": 3}, {\"mean_score\": 0.4790285714285714, \"dt__min_samples_split\": 100, \"dt__max_depth\": 3}]}}, {\"mode\": \"vega-lite\"});\n",
       "</script>"
      ],
      "text/plain": [
       "alt.Chart(...)"
      ]
     },
     "execution_count": 47,
     "metadata": {},
     "output_type": "execute_result"
    }
   ],
   "source": [
    "#fetch performance scores for all combinations of hyper-parameters\n",
    "result_DT = get_results(gs_DT)\n",
    "\n",
    "#plot the performance scores for Decision Tree model\n",
    "alt.Chart(result_DT.loc[result_DT['fselector__k'] == 10, ['mean_score','dt__min_samples_split','dt__max_depth']], \n",
    "          title = 'Hyper-parameter Tuning Results: Decision Tree'\n",
    "         ).mark_line(point = True).encode(\n",
    "    alt.X('dt__min_samples_split', title = 'Minimum Samples for Split'),\n",
    "    alt.Y('mean_score', title = 'Accuracy', scale = alt.Scale(zero = False)),\n",
    "    alt.Color('dt__max_depth:N', title = 'Maximum Depth')\n",
    ")"
   ]
  },
  {
   "cell_type": "markdown",
   "metadata": {},
   "source": [
    "## Model Evaluation"
   ]
  },
  {
   "cell_type": "markdown",
   "metadata": {},
   "source": [
    "### For k-Nearest Neighbours"
   ]
  },
  {
   "cell_type": "code",
   "execution_count": 48,
   "metadata": {},
   "outputs": [
    {
     "data": {
      "text/plain": [
       "0.7902571428571428"
      ]
     },
     "execution_count": 48,
     "metadata": {},
     "output_type": "execute_result"
    }
   ],
   "source": [
    "#display the best score obtained by k-NN model based on training data\n",
    "gs_kNN.best_score_"
   ]
  },
  {
   "cell_type": "code",
   "execution_count": 49,
   "metadata": {},
   "outputs": [],
   "source": [
    "#predict the values using test data and above defined k-NN model\n",
    "test_target_pred_kNN = gs_kNN.predict(test_data)"
   ]
  },
  {
   "cell_type": "code",
   "execution_count": 50,
   "metadata": {},
   "outputs": [
    {
     "data": {
      "text/plain": [
       "array([[9234,   45,   38,  122,    8,    1,   86],\n",
       "       [ 323,  172,   39,  133,    4,    3,   73],\n",
       "       [ 145,   22, 1761,  664,   60,   34,  698],\n",
       "       [ 272,   27,  418, 4309,   32,   19,  515],\n",
       "       [  37,    4,  191,  328,   99,    9,  135],\n",
       "       [   8,    1,   91,  143,   32,  164,  312],\n",
       "       [ 189,   22,  482,  416,   30,  101, 7949]], dtype=int64)"
      ]
     },
     "execution_count": 50,
     "metadata": {},
     "output_type": "execute_result"
    }
   ],
   "source": [
    "#compute the confusion matrix for predicted target\n",
    "metrics.confusion_matrix(test_target, test_target_pred_kNN)"
   ]
  },
  {
   "cell_type": "code",
   "execution_count": 51,
   "metadata": {},
   "outputs": [
    {
     "name": "stdout",
     "output_type": "stream",
     "text": [
      "              precision    recall  f1-score   support\n",
      "\n",
      "           1       0.90      0.97      0.94      9534\n",
      "           2       0.59      0.23      0.33       747\n",
      "           3       0.58      0.52      0.55      3384\n",
      "           4       0.70      0.77      0.74      5592\n",
      "           5       0.37      0.12      0.19       803\n",
      "           6       0.50      0.22      0.30       751\n",
      "           7       0.81      0.87      0.84      9189\n",
      "\n",
      "    accuracy                           0.79     30000\n",
      "   macro avg       0.64      0.53      0.55     30000\n",
      "weighted avg       0.77      0.79      0.77     30000\n",
      "\n"
     ]
    }
   ],
   "source": [
    "#display the classification report\n",
    "print(metrics.classification_report(test_target, test_target_pred_kNN))"
   ]
  },
  {
   "cell_type": "code",
   "execution_count": 52,
   "metadata": {},
   "outputs": [
    {
     "name": "stdout",
     "output_type": "stream",
     "text": [
      "Accuracy for K-Nearest Neighbours model: 0.7896\n"
     ]
    }
   ],
   "source": [
    "#display the accuracy score for predicted target\n",
    "acc_score_kNN = metrics.accuracy_score(test_target, test_target_pred_kNN)\n",
    "print('Accuracy for K-Nearest Neighbours model:', acc_score_kNN)"
   ]
  },
  {
   "cell_type": "markdown",
   "metadata": {},
   "source": [
    "### Desision Tree"
   ]
  },
  {
   "cell_type": "code",
   "execution_count": 53,
   "metadata": {},
   "outputs": [
    {
     "data": {
      "text/plain": [
       "0.7157857142857142"
      ]
     },
     "execution_count": 53,
     "metadata": {},
     "output_type": "execute_result"
    }
   ],
   "source": [
    "#display the best score obtained by DT model based on training data\n",
    "gs_DT.best_score_"
   ]
  },
  {
   "cell_type": "code",
   "execution_count": 54,
   "metadata": {},
   "outputs": [],
   "source": [
    "#predict the values using test data and above defined DT model\n",
    "test_target_pred_DT = gs_DT.predict(test_data)"
   ]
  },
  {
   "cell_type": "code",
   "execution_count": 55,
   "metadata": {},
   "outputs": [
    {
     "data": {
      "text/plain": [
       "array([[8858,   35,   93,  317,    3,    0,  228],\n",
       "       [ 355,   66,   28,  197,    2,    1,   98],\n",
       "       [ 250,    5, 1382,  835,   20,   13,  879],\n",
       "       [ 514,    7,  428, 3767,   29,   14,  833],\n",
       "       [  85,    0,  198,  336,   34,    2,  148],\n",
       "       [  25,    0,  191,  153,    1,   41,  340],\n",
       "       [ 316,    1,  810,  679,    5,   41, 7337]], dtype=int64)"
      ]
     },
     "execution_count": 55,
     "metadata": {},
     "output_type": "execute_result"
    }
   ],
   "source": [
    "#compute the confusion matrix for predicted target\n",
    "metrics.confusion_matrix(test_target, test_target_pred_DT)"
   ]
  },
  {
   "cell_type": "code",
   "execution_count": 56,
   "metadata": {},
   "outputs": [
    {
     "name": "stdout",
     "output_type": "stream",
     "text": [
      "              precision    recall  f1-score   support\n",
      "\n",
      "           1       0.85      0.93      0.89      9534\n",
      "           2       0.58      0.09      0.15       747\n",
      "           3       0.44      0.41      0.42      3384\n",
      "           4       0.60      0.67      0.63      5592\n",
      "           5       0.36      0.04      0.08       803\n",
      "           6       0.37      0.05      0.10       751\n",
      "           7       0.74      0.80      0.77      9189\n",
      "\n",
      "    accuracy                           0.72     30000\n",
      "   macro avg       0.56      0.43      0.43     30000\n",
      "weighted avg       0.69      0.72      0.69     30000\n",
      "\n"
     ]
    }
   ],
   "source": [
    "#display the classification report\n",
    "print(metrics.classification_report(test_target, test_target_pred_DT))"
   ]
  },
  {
   "cell_type": "code",
   "execution_count": 57,
   "metadata": {},
   "outputs": [
    {
     "name": "stdout",
     "output_type": "stream",
     "text": [
      "Accuracy for Decision Tree model: 0.7162\n"
     ]
    }
   ],
   "source": [
    "#display the accuracy score for predicted target\n",
    "acc_score_DT = metrics.accuracy_score(test_target, test_target_pred_DT)\n",
    "print('Accuracy for Decision Tree model:', acc_score_DT.round(4))"
   ]
  }
 ],
 "metadata": {
  "kernelspec": {
   "display_name": "Python 3",
   "language": "python",
   "name": "python3"
  },
  "language_info": {
   "codemirror_mode": {
    "name": "ipython",
    "version": 3
   },
   "file_extension": ".py",
   "mimetype": "text/x-python",
   "name": "python",
   "nbconvert_exporter": "python",
   "pygments_lexer": "ipython3",
   "version": "3.7.6"
  }
 },
 "nbformat": 4,
 "nbformat_minor": 4
}
